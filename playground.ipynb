{
 "cells": [
  {
   "cell_type": "code",
   "execution_count": 2,
   "metadata": {},
   "outputs": [
    {
     "name": "stdout",
     "output_type": "stream",
     "text": [
      "%%{init: {'flowchart': {'curve': 'linear'}}}%%\n",
      "graph TD;\n",
      "\t__start__([<p>__start__</p>]):::first\n",
      "\tsupervisor(supervisor)\n",
      "\tresearcher(researcher)\n",
      "\tcoder(coder)\n",
      "\tfile_manager(file_manager)\n",
      "\tbrowser(browser)\n",
      "\t__end__([<p>__end__</p>]):::last\n",
      "\t__start__ --> supervisor;\n",
      "\tsupervisor -.-> researcher;\n",
      "\tsupervisor -.-> coder;\n",
      "\tsupervisor -.-> file_manager;\n",
      "\tsupervisor -.-> browser;\n",
      "\tsupervisor -.-> __end__;\n",
      "\tresearcher -.-> supervisor;\n",
      "\tcoder -.-> supervisor;\n",
      "\tfile_manager -.-> supervisor;\n",
      "\tbrowser -.-> supervisor;\n",
      "\tclassDef default fill:#f2f0ff,line-height:1.2\n",
      "\tclassDef first fill-opacity:0\n",
      "\tclassDef last fill:#bfb6fc\n",
      "\n"
     ]
    }
   ],
   "source": [
    "from src.workflow import graph\n",
    "from IPython.display import display, Image\n",
    "\n",
    "chart = graph.get_graph().draw_mermaid()\n",
    "print(chart)"
   ]
  }
 ],
 "metadata": {
  "kernelspec": {
   "display_name": ".venv",
   "language": "python",
   "name": "python3"
  },
  "language_info": {
   "codemirror_mode": {
    "name": "ipython",
    "version": 3
   },
   "file_extension": ".py",
   "mimetype": "text/x-python",
   "name": "python",
   "nbconvert_exporter": "python",
   "pygments_lexer": "ipython3",
   "version": "3.12.9"
  }
 },
 "nbformat": 4,
 "nbformat_minor": 2
}
